{
  "nbformat": 4,
  "nbformat_minor": 0,
  "metadata": {
    "colab": {
      "provenance": [],
      "authorship_tag": "ABX9TyOz8HF8QePzYOwj3JpeAU1m",
      "include_colab_link": true
    },
    "kernelspec": {
      "name": "python3",
      "display_name": "Python 3"
    },
    "language_info": {
      "name": "python"
    }
  },
  "cells": [
    {
      "cell_type": "markdown",
      "metadata": {
        "id": "view-in-github",
        "colab_type": "text"
      },
      "source": [
        "<a href=\"https://colab.research.google.com/github/JihyoGwon/PythonforDataAnalysis/blob/master/DataType.ipynb\" target=\"_parent\"><img src=\"https://colab.research.google.com/assets/colab-badge.svg\" alt=\"Open In Colab\"/></a>"
      ]
    },
    {
      "cell_type": "markdown",
      "source": [
        "# 데이터 타입\n",
        "\n",
        "*   List: [ ]\n",
        "*   Tuple: ( )\n",
        "*   Dictionary: { }\n",
        "*   Set: { }\n",
        "\n",
        "\n"
      ],
      "metadata": {
        "id": "y16sbtTBK79N"
      }
    },
    {
      "cell_type": "markdown",
      "source": [
        "# 리스트"
      ],
      "metadata": {
        "id": "Oh9ypfO_LmsN"
      }
    },
    {
      "cell_type": "markdown",
      "source": [
        "*   [. ] 또는 list() 로 표현\n",
        "*   추가: 불가능\n",
        "*   삭제: 불가능\n",
        "*   수정: 불가능\n",
        "*   읽기: 불가능"
      ],
      "metadata": {
        "id": "e8m3NjMtTg9W"
      }
    },
    {
      "cell_type": "code",
      "source": [
        "location = ['서울', '경기', '부산']"
      ],
      "metadata": {
        "id": "--63K7MJM9mL"
      },
      "execution_count": null,
      "outputs": []
    },
    {
      "cell_type": "markdown",
      "source": [
        "### 1. 리스트에 값 추가"
      ],
      "metadata": {
        "id": "CannWzv5L8TM"
      }
    },
    {
      "cell_type": "code",
      "source": [
        "location.append('인천')\n",
        "print(location)"
      ],
      "metadata": {
        "colab": {
          "base_uri": "https://localhost:8080/"
        },
        "id": "kdKRTLH1LlbL",
        "outputId": "0ddf7fda-0f2b-474b-d79f-de20807ecf8c"
      },
      "execution_count": null,
      "outputs": [
        {
          "output_type": "stream",
          "name": "stdout",
          "text": [
            "['서울', '경기', '부산', '인천']\n"
          ]
        }
      ]
    },
    {
      "cell_type": "code",
      "source": [
        "location.insert(1, '광주')"
      ],
      "metadata": {
        "id": "TvJxtIO7M6zj"
      },
      "execution_count": null,
      "outputs": []
    },
    {
      "cell_type": "code",
      "source": [
        "print(location)"
      ],
      "metadata": {
        "colab": {
          "base_uri": "https://localhost:8080/"
        },
        "id": "_EHtmiiwNJ6Y",
        "outputId": "33ef2566-87be-4564-b9c7-9cb0a0605ea6"
      },
      "execution_count": null,
      "outputs": [
        {
          "output_type": "stream",
          "name": "stdout",
          "text": [
            "['서울', '광주', '경기', '부산', '인천']\n"
          ]
        }
      ]
    },
    {
      "cell_type": "markdown",
      "source": [
        "### 2. 위치로 값 찾기"
      ],
      "metadata": {
        "id": "PhMwEs4AMbCS"
      }
    },
    {
      "cell_type": "code",
      "source": [
        "location[0]"
      ],
      "metadata": {
        "colab": {
          "base_uri": "https://localhost:8080/",
          "height": 36
        },
        "id": "a4yMU_spMf8v",
        "outputId": "5bc64f52-1bae-4579-b8ae-1c8018bb5c2b"
      },
      "execution_count": null,
      "outputs": [
        {
          "output_type": "execute_result",
          "data": {
            "text/plain": [
              "'서울'"
            ],
            "application/vnd.google.colaboratory.intrinsic+json": {
              "type": "string"
            }
          },
          "metadata": {},
          "execution_count": 15
        }
      ]
    },
    {
      "cell_type": "code",
      "source": [
        "location[-1]"
      ],
      "metadata": {
        "colab": {
          "base_uri": "https://localhost:8080/",
          "height": 36
        },
        "id": "2nDd8Sc2Mk9I",
        "outputId": "4b9983b1-e55c-4e77-d28f-0db73af3e300"
      },
      "execution_count": null,
      "outputs": [
        {
          "output_type": "execute_result",
          "data": {
            "text/plain": [
              "'인천'"
            ],
            "application/vnd.google.colaboratory.intrinsic+json": {
              "type": "string"
            }
          },
          "metadata": {},
          "execution_count": 16
        }
      ]
    },
    {
      "cell_type": "code",
      "source": [
        "location[1:2]\n",
        "# location[a:b] a포함 b미포함"
      ],
      "metadata": {
        "colab": {
          "base_uri": "https://localhost:8080/"
        },
        "id": "7D1a7deMMnne",
        "outputId": "afacf30e-4129-4242-dc75-195b366d6008"
      },
      "execution_count": null,
      "outputs": [
        {
          "output_type": "execute_result",
          "data": {
            "text/plain": [
              "['광주']"
            ]
          },
          "metadata": {},
          "execution_count": 17
        }
      ]
    },
    {
      "cell_type": "markdown",
      "source": [
        "### 3. 값 삭제하기"
      ],
      "metadata": {
        "id": "IHaBKkjINouf"
      }
    },
    {
      "cell_type": "code",
      "source": [
        "del location[0]\n",
        "location"
      ],
      "metadata": {
        "colab": {
          "base_uri": "https://localhost:8080/"
        },
        "id": "i1n8Nw-ENsh7",
        "outputId": "4f007dd2-e014-44f8-bfc3-6ccc3ed129e7"
      },
      "execution_count": null,
      "outputs": [
        {
          "output_type": "execute_result",
          "data": {
            "text/plain": [
              "['광주', '경기', '부산', '인천']"
            ]
          },
          "metadata": {},
          "execution_count": 18
        }
      ]
    },
    {
      "cell_type": "code",
      "source": [
        "location.remove('광주')\n",
        "location"
      ],
      "metadata": {
        "colab": {
          "base_uri": "https://localhost:8080/"
        },
        "id": "E7tMsgzhOCNi",
        "outputId": "0c2275d9-cd82-4462-e1d9-24b58f91b3c8"
      },
      "execution_count": null,
      "outputs": [
        {
          "output_type": "execute_result",
          "data": {
            "text/plain": [
              "['경기', '부산', '인천']"
            ]
          },
          "metadata": {},
          "execution_count": 19
        }
      ]
    },
    {
      "cell_type": "markdown",
      "source": [
        "### 4. 데이터 치환"
      ],
      "metadata": {
        "id": "6P0p-uYiOYDN"
      }
    },
    {
      "cell_type": "code",
      "source": [
        "location[0] = '서울'\n",
        "location"
      ],
      "metadata": {
        "colab": {
          "base_uri": "https://localhost:8080/"
        },
        "id": "xdhzfhVqObnc",
        "outputId": "ba0d2dbd-dce1-4dc5-cc28-22917efbbc16"
      },
      "execution_count": null,
      "outputs": [
        {
          "output_type": "execute_result",
          "data": {
            "text/plain": [
              "['서울', '부산', '인천']"
            ]
          },
          "metadata": {},
          "execution_count": 21
        }
      ]
    },
    {
      "cell_type": "markdown",
      "source": [
        "### 5. 정렬"
      ],
      "metadata": {
        "id": "bDUmoATNPCNa"
      }
    },
    {
      "cell_type": "code",
      "source": [
        "numbers = [4,1,93,-5]"
      ],
      "metadata": {
        "id": "dk1kqSWKPE-d"
      },
      "execution_count": null,
      "outputs": []
    },
    {
      "cell_type": "code",
      "source": [
        "numbers.sort()\n",
        "print(numbers)"
      ],
      "metadata": {
        "colab": {
          "base_uri": "https://localhost:8080/"
        },
        "id": "CMSVnKi1PMfn",
        "outputId": "a5c93628-afa0-4cd6-8853-a8d3521582e5"
      },
      "execution_count": null,
      "outputs": [
        {
          "output_type": "stream",
          "name": "stdout",
          "text": [
            "[-5, 1, 4, 93]\n"
          ]
        }
      ]
    },
    {
      "cell_type": "code",
      "source": [
        "numbers.reverse()\n",
        "print(numbers)"
      ],
      "metadata": {
        "colab": {
          "base_uri": "https://localhost:8080/"
        },
        "id": "9E7X3kgDPgab",
        "outputId": "ebd947a4-f76b-444e-c1f0-c3a0346baa92"
      },
      "execution_count": null,
      "outputs": [
        {
          "output_type": "stream",
          "name": "stdout",
          "text": [
            "[93, 4, 1, -5]\n"
          ]
        }
      ]
    },
    {
      "cell_type": "markdown",
      "source": [
        "### Exercise"
      ],
      "metadata": {
        "id": "jHeIfvbgQHP6"
      }
    },
    {
      "cell_type": "markdown",
      "source": [
        "\n",
        "\n",
        "*   철수의 주민등록번호에서 생년월일을 출력하세요.  \n",
        "    991001-1234567\n",
        "\n",
        "\n",
        "\n",
        "\n",
        "\n",
        "\n",
        "\n"
      ],
      "metadata": {
        "id": "55ZbHm5YQOWz"
      }
    },
    {
      "cell_type": "code",
      "source": [
        "regNum = '991001-1234567'"
      ],
      "metadata": {
        "id": "rpinu9wEQgQ6"
      },
      "execution_count": null,
      "outputs": []
    },
    {
      "cell_type": "code",
      "source": [
        "regNum_split = regNum.split(\"-\")\n",
        "print(regNum_split)"
      ],
      "metadata": {
        "colab": {
          "base_uri": "https://localhost:8080/"
        },
        "id": "Y6-5omPKRB0Y",
        "outputId": "b0530309-4aa8-457a-8146-d3ac0cfab221"
      },
      "execution_count": null,
      "outputs": [
        {
          "output_type": "stream",
          "name": "stdout",
          "text": [
            "['991001', '1234567']\n"
          ]
        }
      ]
    },
    {
      "cell_type": "code",
      "source": [
        "regNum_split[0]"
      ],
      "metadata": {
        "colab": {
          "base_uri": "https://localhost:8080/",
          "height": 36
        },
        "id": "EUML1x0vRd8k",
        "outputId": "ffbae383-1acc-4cb2-993f-cf1e7a44807e"
      },
      "execution_count": null,
      "outputs": [
        {
          "output_type": "execute_result",
          "data": {
            "text/plain": [
              "'991001'"
            ],
            "application/vnd.google.colaboratory.intrinsic+json": {
              "type": "string"
            }
          },
          "metadata": {},
          "execution_count": 31
        }
      ]
    },
    {
      "cell_type": "markdown",
      "source": [
        "*   철수의 성별을 출력하세요."
      ],
      "metadata": {
        "id": "_6WWoF2gRkV3"
      }
    },
    {
      "cell_type": "code",
      "source": [
        "if int(regNum_split[0]) % 2 == 0:\n",
        "  print('여자')\n",
        "else:\n",
        "  print('남자')"
      ],
      "metadata": {
        "colab": {
          "base_uri": "https://localhost:8080/"
        },
        "id": "rgtQURdGRq2w",
        "outputId": "756214ba-52d4-41d0-d688-b85e1150ca18"
      },
      "execution_count": null,
      "outputs": [
        {
          "output_type": "stream",
          "name": "stdout",
          "text": [
            "남자\n"
          ]
        }
      ]
    },
    {
      "cell_type": "markdown",
      "source": [
        "# 튜플"
      ],
      "metadata": {
        "id": "WF-FsduYTIN3"
      }
    },
    {
      "cell_type": "markdown",
      "source": [
        "\n",
        "\n",
        "*   선언+입력: (a, b, c, d)\n",
        "*   추가: 불가능\n",
        "*   삭제: 불가능\n",
        "*   수정: 불가능\n",
        "*   읽기: 불가능"
      ],
      "metadata": {
        "id": "Yx5zNC14TL5L"
      }
    },
    {
      "cell_type": "code",
      "source": [
        "data = (1, 2, 3)\n",
        "type(data)"
      ],
      "metadata": {
        "colab": {
          "base_uri": "https://localhost:8080/"
        },
        "id": "Nzn-MyMbTsIR",
        "outputId": "0431d840-5030-4396-ad52-b5c1e9b2ca2a"
      },
      "execution_count": null,
      "outputs": [
        {
          "output_type": "execute_result",
          "data": {
            "text/plain": [
              "tuple"
            ]
          },
          "metadata": {},
          "execution_count": 35
        }
      ]
    },
    {
      "cell_type": "code",
      "source": [
        "print(data[0])"
      ],
      "metadata": {
        "colab": {
          "base_uri": "https://localhost:8080/"
        },
        "id": "9ZSRS-CrT1E5",
        "outputId": "56da6951-f137-436a-cb40-84230bdfafeb"
      },
      "execution_count": null,
      "outputs": [
        {
          "output_type": "stream",
          "name": "stdout",
          "text": [
            "1\n"
          ]
        }
      ]
    },
    {
      "cell_type": "code",
      "source": [
        "data2 = (2,4,6,8)\n",
        "data+data2"
      ],
      "metadata": {
        "colab": {
          "base_uri": "https://localhost:8080/"
        },
        "id": "1-pPbJmAT5Mi",
        "outputId": "395a4db4-9b38-4b7a-bf6c-ec66a90fe3c6"
      },
      "execution_count": null,
      "outputs": [
        {
          "output_type": "execute_result",
          "data": {
            "text/plain": [
              "(1, 2, 3, 2, 4, 6, 8)"
            ]
          },
          "metadata": {},
          "execution_count": 37
        }
      ]
    },
    {
      "cell_type": "code",
      "source": [
        "data*2"
      ],
      "metadata": {
        "colab": {
          "base_uri": "https://localhost:8080/"
        },
        "id": "l6EpvCxIUDBc",
        "outputId": "e844cb2f-a1b9-4881-aec7-d18336940d4e"
      },
      "execution_count": null,
      "outputs": [
        {
          "output_type": "execute_result",
          "data": {
            "text/plain": [
              "(1, 2, 3, 1, 2, 3)"
            ]
          },
          "metadata": {},
          "execution_count": 38
        }
      ]
    },
    {
      "cell_type": "markdown",
      "source": [
        "### 리스트 타입으로 바꾸기"
      ],
      "metadata": {
        "id": "ZZA6MeMBUOkv"
      }
    },
    {
      "cell_type": "code",
      "source": [
        "list(data)"
      ],
      "metadata": {
        "colab": {
          "base_uri": "https://localhost:8080/"
        },
        "id": "0VOMYe-2URKn",
        "outputId": "43619830-2be4-4692-b0fb-0553582caa69"
      },
      "execution_count": null,
      "outputs": [
        {
          "output_type": "execute_result",
          "data": {
            "text/plain": [
              "[1, 2, 3]"
            ]
          },
          "metadata": {},
          "execution_count": 39
        }
      ]
    },
    {
      "cell_type": "code",
      "source": [
        "tuple(list(data))"
      ],
      "metadata": {
        "colab": {
          "base_uri": "https://localhost:8080/"
        },
        "id": "AX6RxX52UVQG",
        "outputId": "2bd540ea-91f3-4035-d686-bfdf07c69989"
      },
      "execution_count": null,
      "outputs": [
        {
          "output_type": "execute_result",
          "data": {
            "text/plain": [
              "(1, 2, 3)"
            ]
          },
          "metadata": {},
          "execution_count": 40
        }
      ]
    },
    {
      "cell_type": "markdown",
      "source": [
        "# 딕셔너리"
      ],
      "metadata": {
        "id": "I0sXszvVUtui"
      }
    },
    {
      "cell_type": "markdown",
      "source": [
        "### 1. 선언"
      ],
      "metadata": {
        "id": "7nT2rRZmUbAN"
      }
    },
    {
      "cell_type": "code",
      "source": [
        "a = dict(name = '홍길동', email = 'hong@test.com', age=25)\n",
        "a"
      ],
      "metadata": {
        "colab": {
          "base_uri": "https://localhost:8080/"
        },
        "id": "6PNRfVwbUDo5",
        "outputId": "8a0c80e2-b68c-4e37-9d18-337144d75929"
      },
      "execution_count": 1,
      "outputs": [
        {
          "output_type": "execute_result",
          "data": {
            "text/plain": [
              "{'name': '홍길동', 'email': 'hong@test.com', 'age': 25}"
            ]
          },
          "metadata": {},
          "execution_count": 1
        }
      ]
    },
    {
      "cell_type": "code",
      "source": [
        "b = dict([('name', '홍길동'), ('email', 'hong@test.com'), ('age', 25)])\n",
        "b"
      ],
      "metadata": {
        "colab": {
          "base_uri": "https://localhost:8080/"
        },
        "id": "Nz69KAjrUmjQ",
        "outputId": "aa64c237-0708-4222-b554-570ea8ec9c3b"
      },
      "execution_count": 2,
      "outputs": [
        {
          "output_type": "execute_result",
          "data": {
            "text/plain": [
              "{'name': '홍길동', 'email': 'hong@test.com', 'age': 25}"
            ]
          },
          "metadata": {},
          "execution_count": 2
        }
      ]
    },
    {
      "cell_type": "markdown",
      "source": [
        "### 2. 데이터 추가/업데이트/삭제"
      ],
      "metadata": {
        "id": "BEUm-nXkU8LM"
      }
    },
    {
      "cell_type": "code",
      "source": [
        "user = {}\n",
        "user['name'] = '홍길동'\n",
        "user['email'] = 'hong@test.com'\n",
        "user['age'] = 25\n",
        "user"
      ],
      "metadata": {
        "colab": {
          "base_uri": "https://localhost:8080/"
        },
        "id": "oBoDU4FGU-UW",
        "outputId": "60b2c44e-61ad-4215-b5e1-55cb6f89b565"
      },
      "execution_count": 3,
      "outputs": [
        {
          "output_type": "execute_result",
          "data": {
            "text/plain": [
              "{'name': '홍길동', 'email': 'hong@test.com', 'age': 25}"
            ]
          },
          "metadata": {},
          "execution_count": 3
        }
      ]
    },
    {
      "cell_type": "code",
      "source": [
        "user['age'] = 30\n",
        "user"
      ],
      "metadata": {
        "colab": {
          "base_uri": "https://localhost:8080/"
        },
        "id": "vbDEfdloVf_k",
        "outputId": "12b3d934-2100-4f3a-bd13-f1eed00e213b"
      },
      "execution_count": 5,
      "outputs": [
        {
          "output_type": "execute_result",
          "data": {
            "text/plain": [
              "{'name': '홍길동', 'email': 'hong@test.com', 'age': 30}"
            ]
          },
          "metadata": {},
          "execution_count": 5
        }
      ]
    },
    {
      "cell_type": "code",
      "source": [
        "del user['email']\n",
        "user"
      ],
      "metadata": {
        "colab": {
          "base_uri": "https://localhost:8080/"
        },
        "id": "uMdXubQQVzYq",
        "outputId": "9ebf0db7-f275-4cca-ae30-808b863b03a1"
      },
      "execution_count": 6,
      "outputs": [
        {
          "output_type": "execute_result",
          "data": {
            "text/plain": [
              "{'name': '홍길동', 'age': 30}"
            ]
          },
          "metadata": {},
          "execution_count": 6
        }
      ]
    },
    {
      "cell_type": "markdown",
      "source": [
        "### 3. 데이터 접근"
      ],
      "metadata": {
        "id": "_JQuW_S9VQcZ"
      }
    },
    {
      "cell_type": "code",
      "source": [
        "user['name']"
      ],
      "metadata": {
        "colab": {
          "base_uri": "https://localhost:8080/",
          "height": 35
        },
        "id": "2VCXPmt5VSI6",
        "outputId": "15d50600-f848-4a4c-9285-113f38cd64f8"
      },
      "execution_count": 4,
      "outputs": [
        {
          "output_type": "execute_result",
          "data": {
            "text/plain": [
              "'홍길동'"
            ],
            "application/vnd.google.colaboratory.intrinsic+json": {
              "type": "string"
            }
          },
          "metadata": {},
          "execution_count": 4
        }
      ]
    },
    {
      "cell_type": "markdown",
      "source": [
        "### 4. 사전 순회"
      ],
      "metadata": {
        "id": "IAxxVdyNWFab"
      }
    },
    {
      "cell_type": "code",
      "source": [
        "for key, value in user.items():\n",
        "  print(f\"{key}: {value}\")"
      ],
      "metadata": {
        "colab": {
          "base_uri": "https://localhost:8080/"
        },
        "id": "pmGCErYEWHdQ",
        "outputId": "8c2c490c-3f5f-4a6f-a664-ca67a993470d"
      },
      "execution_count": 8,
      "outputs": [
        {
          "output_type": "stream",
          "name": "stdout",
          "text": [
            "name: 홍길동\n",
            "age: 30\n"
          ]
        }
      ]
    },
    {
      "cell_type": "markdown",
      "source": [
        "# 기타\n",
        "[[Python] 튜플(tuple), 리스트(list), 셋(set), 딕셔너리(dict) 비교](https://specialscene.tistory.com/142)"
      ],
      "metadata": {
        "id": "n6pEJdsJW1oM"
      }
    }
  ]
}